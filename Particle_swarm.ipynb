{
 "cells": [
  {
   "cell_type": "markdown",
   "id": "9e2d0d12",
   "metadata": {},
   "source": [
    "Here we implement the particle swarm optimisation algorithm."
   ]
  },
  {
   "cell_type": "code",
   "execution_count": 1,
   "id": "01c1d403",
   "metadata": {},
   "outputs": [],
   "source": [
    "import torch\n",
    "import numpy as np\n",
    "import matplotlib.pyplot as plt\n",
    "%matplotlib qt"
   ]
  },
  {
   "cell_type": "code",
   "execution_count": 2,
   "id": "5b5fff65",
   "metadata": {},
   "outputs": [],
   "source": [
    "# the Particle object to be used in construction of the swarm\n",
    "class Particle:\n",
    "    def __init__(self, n_dim, initial = None):\n",
    "        if initial is not None:\n",
    "            self.position = initial[0]\n",
    "            self.velocity = initial[1]\n",
    "        else: \n",
    "            # if no initial position given, initialize with normal distribution\n",
    "            self.position = torch.randn(n_dim)\n",
    "            self.velocity = torch.randn(n_dim)\n",
    "       \n",
    "        self.best_position = self.position.clone()\n",
    "        self.best_minimum = float('inf')   \n",
    "\n",
    "class ParticleSwarm:\n",
    "    def __init__(self, n_dim = 2, n_particles = 100, alpha = .95, beta = .1, gamma = .1):\n",
    "        self.n_dim = n_dim # number of dimensions of the space\n",
    "        self.n_particles = n_particles # number of particles in the swarm\n",
    "        self.alpha = alpha # hyperparameters alpha, beta,, gamma\n",
    "        self.beta = beta\n",
    "        self.gamma = gamma\n",
    "        self.global_best_position = None # the best initial position\n",
    "        self.global_best_minimum = float('inf') # the best minimum encountered so far\n",
    "        self.swarm = [Particle(n_dim) for _ in range(n_particles)]\n",
    "\n",
    "    def optimise(self, f, n_iterations = 10, visual = False):\n",
    "        # get the information on the state of the swarm\n",
    "        positions = torch.stack([particle.position for particle in self.swarm])\n",
    "        velocities = torch.stack([particle.velocity for particle in self.swarm])\n",
    "        best_positions = torch.stack([particle.best_position for particle in self.swarm])\n",
    "        best_minima = torch.tensor([particle.best_minimum for particle in self.swarm])\n",
    "        \n",
    "        if self.global_best_position is None:\n",
    "            _, indices = torch.min(f(best_positions), dim=0)\n",
    "            self.global_best_position = best_positions[indices]\n",
    "        \n",
    "        if visual:\n",
    "            fig, ax = plt.subplots()\n",
    "        \n",
    "        # run the optimisation algorithm for n_iterations steps \n",
    "        for k in range(n_iterations):\n",
    "            # update velocities\n",
    "            a = self.alpha * velocities\n",
    "            b = self.beta * torch.rand(self.n_particles, self.n_dim) * (best_positions - positions)\n",
    "            c = self.gamma * torch.rand(self.n_particles, self.n_dim) * (self.global_best_position - positions)\n",
    "            velocities = a + b + c\n",
    "            \n",
    "            # update positions\n",
    "            positions += velocities\n",
    "            \n",
    "            # evaluate function values for new positions\n",
    "            new_minima = f(positions)\n",
    "            \n",
    "            improved_indices = new_minima < best_minima\n",
    "            best_positions[improved_indices] = positions[improved_indices]\n",
    "            best_minima[improved_indices] = new_minima[improved_indices]\n",
    "            \n",
    "            # update the best particle position\n",
    "            _, indices = torch.min(new_minima, dim=0)\n",
    "            self.global_best_position = positions[indices]\n",
    "            \n",
    "            if visual:\n",
    "                # plot particle positions\n",
    "                ax.clear()\n",
    "                ax.scatter(positions[:, 0], positions[:, 1], color = 'blue', label = 'Particles')\n",
    "                ax.scatter(self.global_best_position[0], self.global_best_position[1], color = 'red', label = 'Global Best Minimum')\n",
    "                ax.set_xlabel('X')\n",
    "                ax.set_ylabel('Y')\n",
    "                ax.set_title(f'Particle Swarm Optimization, step: {k+1}')\n",
    "                ax.legend()\n",
    "                plt.pause(.0001)\n",
    "            \n",
    "        # update the state of the swarm\n",
    "        for i, particle in enumerate(self.swarm):\n",
    "            particle.position = positions[i]\n",
    "            particle.velocity = velocities[i]\n",
    "            particle.best_position = best_positions[i]\n",
    "            particle.best_minimum = best_minima[i].item()\n"
   ]
  },
  {
   "cell_type": "code",
   "execution_count": 3,
   "id": "e6a77e47",
   "metadata": {},
   "outputs": [
    {
     "data": {
      "text/plain": [
       "tensor([1.0000, 1.0000])"
      ]
     },
     "execution_count": 3,
     "metadata": {},
     "output_type": "execute_result"
    }
   ],
   "source": [
    "# 1-d Rosenbrock function, minimum at (1,1)\n",
    "f = lambda x: (1 - x[:, 0]) ** 2 + 100 * (x[:, 1] - x[:, 0] ** 2) ** 2\n",
    "\n",
    "ps = ParticleSwarm(n_particles = 50)\n",
    "ps.optimise(f, 500)\n",
    "ps.global_best_position"
   ]
  }
 ],
 "metadata": {
  "kernelspec": {
   "display_name": "Python 3 (ipykernel)",
   "language": "python",
   "name": "python3"
  },
  "language_info": {
   "codemirror_mode": {
    "name": "ipython",
    "version": 3
   },
   "file_extension": ".py",
   "mimetype": "text/x-python",
   "name": "python",
   "nbconvert_exporter": "python",
   "pygments_lexer": "ipython3",
   "version": "3.9.13"
  }
 },
 "nbformat": 4,
 "nbformat_minor": 5
}
