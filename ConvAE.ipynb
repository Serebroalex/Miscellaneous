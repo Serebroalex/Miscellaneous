{
 "cells": [
  {
   "cell_type": "code",
   "execution_count": 1,
   "id": "4eb8c6bb",
   "metadata": {
    "colab": {
     "base_uri": "https://localhost:8080/",
     "height": 17
    },
    "id": "4eb8c6bb",
    "outputId": "2068852d-7010-4e6c-b2ce-71b470bae794"
   },
   "outputs": [
    {
     "data": {
      "text/html": [
       "<style>.container { width:95% !important; }</style>"
      ],
      "text/plain": [
       "<IPython.core.display.HTML object>"
      ]
     },
     "metadata": {},
     "output_type": "display_data"
    }
   ],
   "source": [
    "import torch\n",
    "import torch.nn as nn\n",
    "from torchvision import datasets, transforms\n",
    "from torch.utils.data import DataLoader\n",
    "import matplotlib.pyplot as plt\n",
    "device = 'cuda' if torch.cuda.is_available() else 'cpu'\n",
    "\n",
    "from IPython.display import display, HTML\n",
    "display(HTML(\"<style>.container { width:95% !important; }</style>\"))"
   ]
  },
  {
   "cell_type": "code",
   "execution_count": 2,
   "id": "3f983083",
   "metadata": {
    "id": "3f983083"
   },
   "outputs": [],
   "source": [
    "class Reshape(nn.Module):\n",
    "    \"\"\"\n",
    "    A custom layer for reshaping input data.\n",
    "\n",
    "    Args:\n",
    "        channels (int): Number of output channels.\n",
    "        n_h (int): Height of the reshaped output.\n",
    "        n_w (int): Width of the reshaped output.\n",
    "    \"\"\"\n",
    "    def __init__(self, channels, n_h, n_w):\n",
    "        super(Reshape, self).__init__()\n",
    "        self.channels = channels\n",
    "        self.n_h = n_h\n",
    "        self.n_w = n_w\n",
    "\n",
    "    def __call__(self, x):\n",
    "        \"\"\"\n",
    "        Forward pass of the reshaping layer.\n",
    "\n",
    "        Args:\n",
    "            x (Tensor): Input data tensor.\n",
    "\n",
    "        Returns:\n",
    "            Tensor: Reshaped output tensor.\n",
    "        \"\"\"\n",
    "        self.out = x.reshape(x.shape[0], self.channels, self.n_h, self.n_w)\n",
    "        return self.out\n",
    "\n",
    "    def parameters(self):\n",
    "        \"\"\"\n",
    "        Get the parameters of the layer.\n",
    "\n",
    "        Returns:\n",
    "            list: An empty list since this layer has no learnable parameters.\n",
    "        \"\"\"\n",
    "        return []\n",
    "\n",
    "class ConvolutionalEncoder(nn.Module):\n",
    "    \"\"\"\n",
    "    A convolutional encoder network for a convolutional autoencoder.\n",
    "\n",
    "    Args:\n",
    "        in_channels (int): Number of input channels.\n",
    "        n_h (int): Height of the input.\n",
    "        n_w (int): Width of the input.\n",
    "        n_layers (int): Number of layers in the encoder.\n",
    "        layer_dims (list, optional): List of layer dimensions for the encoder.\n",
    "    \"\"\"\n",
    "    def __init__(self, in_channels = 3, n_h = 64, n_w = 64, n_layers = 3, layer_dims = None):\n",
    "        super(ConvolutionalEncoder, self).__init__()\n",
    "\n",
    "        # If layer_dims is not provided, calculate default values.\n",
    "        self.layer_dims = [16 * (n_h - 2) * (n_w - 2)] + layer_dims if layer_dims is not None else [16 * (n_h - 2) * (n_w - 2)] + [100 // 2**i for i in range(n_layers)]\n",
    "\n",
    "        # Define layers for the encoder. First add the convolutional layers.\n",
    "        layers = [[nn.Conv2d(in_channels = in_channels, out_channels = 8, kernel_size = 3, padding = 'same'),\n",
    "                   nn.ReLU(),\n",
    "                   nn.Dropout(.2),\n",
    "                   nn.Conv2d(8, 16, kernel_size = 3, padding = 'same'),\n",
    "                   nn.ReLU(),\n",
    "                   nn.MaxPool2d(kernel_size = 3, stride = 1),\n",
    "                   nn.Flatten()]]\n",
    "\n",
    "        # Add the linear layers.\n",
    "        layers += [[nn.Linear(self.layer_dims[i], self.layer_dims[i+1]), nn.ReLU()] for i in range(len(self.layer_dims) - 1)]\n",
    "\n",
    "        # Flatten the layers list.\n",
    "        layers = sum(layers, [])\n",
    "\n",
    "        # Create a sequential neural network with the defined layers.\n",
    "        self.layers = nn.Sequential(*layers)\n",
    "\n",
    "    def forward(self, X):\n",
    "        \"\"\"\n",
    "        Forward pass of the convolutional encoder.\n",
    "\n",
    "        Args:\n",
    "            X (Tensor): Input data tensor.\n",
    "\n",
    "        Returns:\n",
    "            Tensor: Encoded representation of the input data.\n",
    "        \"\"\"\n",
    "        out = self.layers(X)\n",
    "\n",
    "        return out\n",
    "\n",
    "\n",
    "class ConvolutionalDecoder(nn.Module):\n",
    "    \"\"\"\n",
    "    A convolutional decoder network for a convolutional autoencoder.\n",
    "\n",
    "    Args:\n",
    "        out_channels (int): Number of output channels.\n",
    "        n_h (int): Height of the output.\n",
    "        n_w (int): Width of the output.\n",
    "        n_layers (int): Number of layers in the decoder.\n",
    "        layer_dims (list, optional): List of layer dimensions for the decoder.\n",
    "    \"\"\"\n",
    "    def __init__(self, out_channels = 3, n_h = 64, n_w = 64, n_layers = 3, layer_dims = None):\n",
    "        super(ConvolutionalDecoder, self).__init__()\n",
    "\n",
    "        self.layer_dims = layer_dims + [16 * (n_h - 2) * (n_w - 2)] if layer_dims is not None else [100 // 2**i for i in range(n_layers)][::-1] + [16 * (n_h - 2) * (n_w - 2)]\n",
    "\n",
    "        # Define layers for the encoder. First add the linear layers.\n",
    "        layers = [[nn.Linear(self.layer_dims[i], self.layer_dims[i+1]), nn.ReLU()] for i in range(len(self.layer_dims) - 1)]\n",
    "\n",
    "        # Add the convolutional transpose layers to reverse the encoding process.\n",
    "        layers += [[Reshape(16, n_h - 2, n_w - 2),\n",
    "                    nn.ConvTranspose2d(in_channels = 16, out_channels = 8, kernel_size = 4, padding = 1),\n",
    "                    nn.ReLU(),\n",
    "                    nn.ConvTranspose2d(in_channels = 8, out_channels = out_channels, kernel_size = 4, padding = 1),\n",
    "                   ]]\n",
    "\n",
    "        # Flatten the layers list.\n",
    "        layers = sum(layers, [])\n",
    "\n",
    "        # Create a sequential neural network with the defined layers.\n",
    "        self.layers = nn.Sequential(*layers)\n",
    "\n",
    "    def forward(self, X):\n",
    "        \"\"\"\n",
    "        Forward pass of the convolutional decoder.\n",
    "\n",
    "        Args:\n",
    "            X (Tensor): Input data tensor.\n",
    "\n",
    "        Returns:\n",
    "            Tensor: Decoded representation of the input data.\n",
    "        \"\"\"\n",
    "        out = self.layers(X)\n",
    "\n",
    "        return out\n",
    "\n",
    "class ConvolutionalAutoEncoder(nn.Module):\n",
    "    \"\"\"\n",
    "    A convolutional autoencoder composed of an encoder and a decoder.\n",
    "\n",
    "    Args:\n",
    "        in_channels (int): Number of input channels.\n",
    "        n_h (int): Height of the input.\n",
    "        n_w (int): Width of the input.\n",
    "        n_layers (int): Number of layers in the encoder and decoder.\n",
    "        layer_dims (list, optional): List of layer dimensions for the encoder and decoder.\n",
    "    \"\"\"\n",
    "    def __init__(self, in_channels = 3, n_h = 64, n_w = 64, n_layers = 3, layer_dims = None):\n",
    "        super(ConvolutionalAutoEncoder, self).__init__()\n",
    "\n",
    "        # If layer_dims is not provided, calculate default values.\n",
    "        self.layer_dims = layer_dims if layer_dims is not None else [100//5**i for i in range(n_layers)]\n",
    "\n",
    "        # Create the encoder and decoder class instances.\n",
    "        self.encoder = ConvolutionalEncoder(in_channels, n_h, n_w, n_layers, self.layer_dims)\n",
    "        self.decoder = ConvolutionalDecoder(in_channels, n_h, n_w, n_layers, self.layer_dims[::-1])\n",
    "\n",
    "    def forward(self, X):\n",
    "        \"\"\"\n",
    "        Forward pass of the convolutional autoencoder.\n",
    "\n",
    "        Args:\n",
    "            X (Tensor): Input data tensor.\n",
    "\n",
    "        Returns:\n",
    "            Tensor: Reconstructed output of the autoencoder.\n",
    "        \"\"\"\n",
    "        # Encode the input.\n",
    "        encode = self.encoder(X)\n",
    "\n",
    "        # Decode the encoded representation.\n",
    "        decode =  self.decoder(encode)\n",
    "\n",
    "        return decode"
   ]
  },
  {
   "cell_type": "code",
   "execution_count": 3,
   "id": "e0a75df4",
   "metadata": {
    "id": "e0a75df4"
   },
   "outputs": [],
   "source": [
    "# MNIST dataset\n",
    "transform = transforms.Compose([transforms.ToTensor()])\n",
    "train_dataset = datasets.MNIST(root = './datasets', train = True, transform = transform, download = True)\n",
    "test_dataset = datasets.MNIST(root = './datasets', train = False, transform = transform, download = True)\n",
    "\n",
    "batch_size = 64\n",
    "\n",
    "train_loader = DataLoader(train_dataset, batch_size = batch_size, shuffle = True, pin_memory = True, pin_memory_device = device)\n",
    "test_loader = DataLoader(test_dataset, batch_size = 1, shuffle = False, pin_memory = True, pin_memory_device = device)"
   ]
  },
  {
   "cell_type": "code",
   "execution_count": 4,
   "id": "e6f1948b",
   "metadata": {
    "id": "e6f1948b"
   },
   "outputs": [],
   "source": [
    "# Create the autoencoder model instance.\n",
    "model = ConvolutionalAutoEncoder(in_channels = 1, n_h = 28, n_w = 28)\n",
    "model.to(device)\n",
    "# Create the optimiser and loss.\n",
    "learning_rate = 0.001\n",
    "optimizer = torch.optim.Adam(model.parameters(), lr = learning_rate)\n",
    "mse_loss = nn.MSELoss()"
   ]
  },
  {
   "cell_type": "code",
   "execution_count": 5,
   "id": "a79ef931",
   "metadata": {
    "colab": {
     "base_uri": "https://localhost:8080/"
    },
    "id": "a79ef931",
    "outputId": "9af4eff1-8065-4336-e96a-815fc959d514"
   },
   "outputs": [
    {
     "name": "stdout",
     "output_type": "stream",
     "text": [
      "Epoch 1/100, Loss: 0.05043131038784854\n",
      "Epoch 11/100, Loss: 0.03127088457909919\n",
      "Epoch 21/100, Loss: 0.029802736526390892\n",
      "Epoch 31/100, Loss: 0.029194163114849184\n",
      "Epoch 41/100, Loss: 0.028942537839526435\n",
      "Epoch 51/100, Loss: 0.028542381921795004\n",
      "Epoch 61/100, Loss: 0.028350839530354114\n",
      "Epoch 71/100, Loss: 0.028183090194726167\n",
      "Epoch 81/100, Loss: 0.02824729603371704\n",
      "Epoch 91/100, Loss: 0.027993198891263654\n",
      "Epoch 100/100, Loss: 0.027745702353590078\n"
     ]
    }
   ],
   "source": [
    "num_epochs = 100\n",
    "\n",
    "# Set the model to training mode.\n",
    "model.train()\n",
    "\n",
    "# Training loop.\n",
    "for epoch in range(num_epochs):\n",
    "    total_loss = 0\n",
    "    for batch_data, _ in train_loader:\n",
    "        batch_data = batch_data.to(device)  # Move the batch data to the specified device.\n",
    "        optimizer.zero_grad()\n",
    "        reconstructed_data = model(batch_data)\n",
    "        loss = mse_loss(reconstructed_data, batch_data)\n",
    "        loss.backward()\n",
    "        optimizer.step()\n",
    "        total_loss += loss.item()\n",
    "\n",
    "    if epoch % int(num_epochs * 0.1) == 0 or epoch == num_epochs - 1:\n",
    "        print(f\"Epoch {epoch + 1}/{num_epochs}, Loss: {total_loss / len(train_loader)}\")"
   ]
  },
  {
   "cell_type": "code",
   "execution_count": 6,
   "id": "b4c66b04",
   "metadata": {
    "colab": {
     "base_uri": "https://localhost:8080/",
     "height": 1000
    },
    "id": "b4c66b04",
    "outputId": "9fd9e2a0-af3c-4036-f3d2-ecc1c3a35fba"
   },
   "outputs": [
    {
     "name": "stdout",
     "output_type": "stream",
     "text": [
      "Average Test Loss: 0.0300\n"
     ]
    },
    {
     "data": {
      "image/png": "[encoded data removed]",
      "text/plain": [
       "<Figure size 640x480 with 2 Axes>"
      ]
     },
     "metadata": {},
     "output_type": "display_data"
    },
    {
     "data": {
      "image/png": "[encoded data removed]",
      "text/plain": [
       "<Figure size 640x480 with 2 Axes>"
      ]
     },
     "metadata": {},
     "output_type": "display_data"
    },
    {
     "data": {
      "image/png": "[encoded data removed]",
      "text/plain": [
       "<Figure size 640x480 with 2 Axes>"
      ]
     },
     "metadata": {},
     "output_type": "display_data"
    },
    {
     "data": {
      "image/png": "[encoded data removed]",
      "text/plain": [
       "<Figure size 640x480 with 2 Axes>"
      ]
     },
     "metadata": {},
     "output_type": "display_data"
    },
    {
     "data": {
      "image/png": "[encoded data removed]",
      "text/plain": [
       "<Figure size 640x480 with 2 Axes>"
      ]
     },
     "metadata": {},
     "output_type": "display_data"
    },
    {
     "data": {
      "image/png": "[encoded data removed]",
      "text/plain": [
       "<Figure size 640x480 with 2 Axes>"
      ]
     },
     "metadata": {},
     "output_type": "display_data"
    }
   ],
   "source": [
    "# Set the model to evaluation mode.\n",
    "model.eval()\n",
    "\n",
    "# Testing loop.\n",
    "with torch.no_grad():\n",
    "    test_loss = 0\n",
    "    for test_data, _ in test_loader:\n",
    "        # Move the test data to the specified device\n",
    "        test_data = test_data.to(device)\n",
    "\n",
    "        reconstructed_data = model(test_data)\n",
    "        loss = mse_loss(reconstructed_data, test_data)\n",
    "        test_loss += loss.item()\n",
    "\n",
    "    average_test_loss = test_loss / len(test_loader)\n",
    "    print(f\"Average Test Loss: {average_test_loss:.4f}\")\n",
    "\n",
    "# Function to display original and reconstructed images.\n",
    "def plot_images(original, reconstructed):\n",
    "    fig, axes = plt.subplots(1, 2)\n",
    "    axes[0].imshow(original[0][0].cpu().numpy(), cmap='gray')\n",
    "    axes[0].set_title('Original')\n",
    "    axes[0].axis('off')\n",
    "    axes[1].imshow(reconstructed[0][0].cpu().numpy(), cmap='gray')\n",
    "    axes[1].set_title('Reconstructed')\n",
    "    axes[1].axis('off')\n",
    "    plt.show()\n",
    "\n",
    "# Test the model on a few examples.\n",
    "with torch.no_grad():\n",
    "    for i, (test_data, _) in enumerate(test_loader):\n",
    "        # Move the test data to the specified device.\n",
    "        test_data = test_data.to(device)\n",
    "\n",
    "        # Forward pass through the model.\n",
    "        reconstructed_data = model(test_data)\n",
    "\n",
    "        # Display the original and reconstructed images.\n",
    "        plot_images(test_data, reconstructed_data)\n",
    "\n",
    "        # Stop after displaying a few examples.\n",
    "        if i == 5:\n",
    "            break"
   ]
  }
 ],
 "metadata": {
  "accelerator": "GPU",
  "colab": {
   "gpuType": "T4",
   "provenance": []
  },
  "kernelspec": {
   "display_name": "Python 3 (ipykernel)",
   "language": "python",
   "name": "python3"
  },
  "language_info": {
   "codemirror_mode": {
    "name": "ipython",
    "version": 3
   },
   "file_extension": ".py",
   "mimetype": "text/x-python",
   "name": "python",
   "nbconvert_exporter": "python",
   "pygments_lexer": "ipython3",
   "version": "3.9.13"
  }
 },
 "nbformat": 4,
 "nbformat_minor": 5
}
